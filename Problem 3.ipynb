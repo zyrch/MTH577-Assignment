{
 "cells": [
  {
   "cell_type": "markdown",
   "metadata": {},
   "source": [
    "### Optimizatin Problem:\n",
    "  - minimize     :  $w^TVw$\n",
    "  - subject to   \n",
    "    - $m^Tw \\geq r_m$\n",
    "    - $1^Tw = 1$\n",
    "    - $w \\succeq 0$"
   ]
  },
  {
   "cell_type": "code",
   "execution_count": 189,
   "metadata": {},
   "outputs": [],
   "source": [
    "import numpy as np\n",
    "import math\n",
    "import matplotlib.pyplot as plt\n",
    "import scipy.optimize as sp"
   ]
  },
  {
   "cell_type": "code",
   "execution_count": 193,
   "metadata": {},
   "outputs": [],
   "source": [
    "class portfolioOptimize:\n",
    "    def __init__(self, m, V, r_m):\n",
    "        self.m = m\n",
    "        self.V = V\n",
    "        self.r_m = 0\n",
    "        \n",
    "        self.eq_cons = {\n",
    "            'type' : 'eq',\n",
    "            'fun'  : lambda x: sum(x) - 1\n",
    "#             'jac'  : lambda x: np.array([1 for i in range(len(x))])\n",
    "        }\n",
    "        \n",
    "        self.ineq_cons = {\n",
    "            'type': 'ineq', \n",
    "            'fun' : lambda x: m.T @ x - r_m\n",
    "#             'jac' : lambda x: np.array(m.T[0].copy())\n",
    "        }\n",
    "        \n",
    "        self.x0 = np.random.rand(20, 1)\n",
    "        self.x0 /= sum(self.x0)\n",
    "    \n",
    "    def risk(self, w):\n",
    "        return w.T @ V @ w\n",
    "    \n",
    "    def jacRisk(self, w):\n",
    "        return 2 * (V @ w)\n",
    "    \n",
    "    def optimize(self):\n",
    "        \n",
    "        res = sp.minimize(self.risk,\n",
    "                           self.x0,\n",
    "                           method='SLSQP',\n",
    "                           jac=self.jacRisk, \n",
    "                           constraints=[self.eq_cons, self.ineq_cons],\n",
    "                           options={'ftol': 1e-9, 'disp': True},\n",
    "                           bounds=sp.Bounds(0, 1))\n",
    "        return res.x\n",
    "    "
   ]
  },
  {
   "cell_type": "code",
   "execution_count": 194,
   "metadata": {},
   "outputs": [],
   "source": [
    "m = np.random.rand(20, 1)\n",
    "V = np.random.rand(20, 20)\n",
    "V = np.dot(V, V.transpose())\n",
    "r_m = 0"
   ]
  },
  {
   "cell_type": "code",
   "execution_count": 195,
   "metadata": {},
   "outputs": [],
   "source": [
    "pOptimize = portfolioOptimize(m, V, r_m)"
   ]
  },
  {
   "cell_type": "code",
   "execution_count": 196,
   "metadata": {},
   "outputs": [
    {
     "name": "stdout",
     "output_type": "stream",
     "text": [
      "Optimization terminated successfully.    (Exit mode 0)\n",
      "            Current function value: 2.9248684444588613\n",
      "            Iterations: 9\n",
      "            Function evaluations: 10\n",
      "            Gradient evaluations: 9\n"
     ]
    }
   ],
   "source": [
    "inves = pOptimize.optimize()"
   ]
  },
  {
   "cell_type": "code",
   "execution_count": 200,
   "metadata": {},
   "outputs": [
    {
     "name": "stdout",
     "output_type": "stream",
     "text": [
      "Optimization terminated successfully.    (Exit mode 0)\n",
      "            Current function value: 2.9248684444555497\n",
      "            Iterations: 8\n",
      "            Function evaluations: 9\n",
      "            Gradient evaluations: 8\n",
      "Optimization terminated successfully.    (Exit mode 0)\n",
      "            Current function value: 2.924868444468354\n",
      "            Iterations: 9\n",
      "            Function evaluations: 10\n",
      "            Gradient evaluations: 9\n",
      "Optimization terminated successfully.    (Exit mode 0)\n",
      "            Current function value: 2.9248684444564934\n",
      "            Iterations: 9\n",
      "            Function evaluations: 10\n",
      "            Gradient evaluations: 9\n",
      "Optimization terminated successfully.    (Exit mode 0)\n",
      "            Current function value: 2.924868444456634\n",
      "            Iterations: 10\n",
      "            Function evaluations: 10\n",
      "            Gradient evaluations: 10\n",
      "Optimization terminated successfully.    (Exit mode 0)\n",
      "            Current function value: 2.9248684444554454\n",
      "            Iterations: 8\n",
      "            Function evaluations: 9\n",
      "            Gradient evaluations: 8\n",
      "Optimization terminated successfully.    (Exit mode 0)\n",
      "            Current function value: 2.9248684444683577\n",
      "            Iterations: 10\n",
      "            Function evaluations: 10\n",
      "            Gradient evaluations: 10\n",
      "Optimization terminated successfully.    (Exit mode 0)\n",
      "            Current function value: 2.92486844445881\n",
      "            Iterations: 10\n",
      "            Function evaluations: 10\n",
      "            Gradient evaluations: 10\n",
      "Optimization terminated successfully.    (Exit mode 0)\n",
      "            Current function value: 2.9604211451492177\n",
      "            Iterations: 6\n",
      "            Function evaluations: 6\n",
      "            Gradient evaluations: 6\n",
      "Optimization terminated successfully.    (Exit mode 0)\n",
      "            Current function value: 3.2155647717147846\n",
      "            Iterations: 4\n",
      "            Function evaluations: 5\n",
      "            Gradient evaluations: 4\n",
      "Optimization terminated successfully.    (Exit mode 0)\n",
      "            Current function value: 5.080241533160588\n",
      "            Iterations: 3\n",
      "            Function evaluations: 3\n",
      "            Gradient evaluations: 3\n",
      "Positive directional derivative for linesearch    (Exit mode 8)\n",
      "            Current function value: 8.056319461450986\n",
      "            Iterations: 12\n",
      "            Function evaluations: 68\n",
      "            Gradient evaluations: 8\n",
      "Positive directional derivative for linesearch    (Exit mode 8)\n",
      "            Current function value: 8.05631946171437\n",
      "            Iterations: 16\n",
      "            Function evaluations: 111\n",
      "            Gradient evaluations: 12\n",
      "Positive directional derivative for linesearch    (Exit mode 8)\n",
      "            Current function value: 8.056319461565453\n",
      "            Iterations: 15\n",
      "            Function evaluations: 101\n",
      "            Gradient evaluations: 11\n",
      "Positive directional derivative for linesearch    (Exit mode 8)\n",
      "            Current function value: 8.05631946176403\n",
      "            Iterations: 19\n",
      "            Function evaluations: 142\n",
      "            Gradient evaluations: 15\n",
      "Positive directional derivative for linesearch    (Exit mode 8)\n",
      "            Current function value: 8.056319461472295\n",
      "            Iterations: 13\n",
      "            Function evaluations: 75\n",
      "            Gradient evaluations: 9\n",
      "Positive directional derivative for linesearch    (Exit mode 8)\n",
      "            Current function value: 8.056319462198351\n",
      "            Iterations: 9\n",
      "            Function evaluations: 35\n",
      "            Gradient evaluations: 5\n",
      "Positive directional derivative for linesearch    (Exit mode 8)\n",
      "            Current function value: 8.056319463541692\n",
      "            Iterations: 21\n",
      "            Function evaluations: 137\n",
      "            Gradient evaluations: 17\n",
      "Positive directional derivative for linesearch    (Exit mode 8)\n",
      "            Current function value: 8.056319461480328\n",
      "            Iterations: 16\n",
      "            Function evaluations: 108\n",
      "            Gradient evaluations: 12\n",
      "Positive directional derivative for linesearch    (Exit mode 8)\n",
      "            Current function value: 8.056319462209705\n",
      "            Iterations: 15\n",
      "            Function evaluations: 85\n",
      "            Gradient evaluations: 11\n",
      "Positive directional derivative for linesearch    (Exit mode 8)\n",
      "            Current function value: 8.056319463349473\n",
      "            Iterations: 22\n",
      "            Function evaluations: 154\n",
      "            Gradient evaluations: 18\n"
     ]
    }
   ],
   "source": [
    "rs = np.linspace(0, 2, 20)\n",
    "risk = []\n",
    "for r in rs:\n",
    "    pOptimize = portfolioOptimize(m, V, r)\n",
    "    w = pOptimize.optimize()\n",
    "    risk.append(pOptimize.risk(w))"
   ]
  },
  {
   "cell_type": "code",
   "execution_count": 202,
   "metadata": {},
   "outputs": [
    {
     "data": {
      "image/png": "[encoded data removed]",
      "text/plain": [
       "<Figure size 432x288 with 1 Axes>"
      ]
     },
     "metadata": {
      "needs_background": "light"
     },
     "output_type": "display_data"
    }
   ],
   "source": [
    "plt.plot(rs, risk, 'g')\n",
    "plt.xlabel('Target Return')\n",
    "plt.ylabel('Risk')\n",
    "plt.show()"
   ]
  }
 ],
 "metadata": {
  "kernelspec": {
   "display_name": "Python 3",
   "language": "python",
   "name": "python3"
  },
  "language_info": {
   "codemirror_mode": {
    "name": "ipython",
    "version": 3
   },
   "file_extension": ".py",
   "mimetype": "text/x-python",
   "name": "python",
   "nbconvert_exporter": "python",
   "pygments_lexer": "ipython3",
   "version": "3.6.9"
  }
 },
 "nbformat": 4,
 "nbformat_minor": 4
}
