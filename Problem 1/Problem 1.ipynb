{
 "cells": [
  {
   "cell_type": "code",
   "execution_count": 68,
   "metadata": {},
   "outputs": [],
   "source": [
    "import numpy as np\n",
    "import matplotlib.pyplot as plt\n",
    "import math"
   ]
  },
  {
   "cell_type": "markdown",
   "metadata": {},
   "source": [
    "#### Function and Gradient Definations\n",
    "#### The hessian of the functions is given by:\n",
    "$$\\begin{bmatrix} 2 & -1 \\\\ -1 & 2*\\gamma \\end{bmatrix}$$"
   ]
  },
  {
   "cell_type": "code",
   "execution_count": 157,
   "metadata": {},
   "outputs": [],
   "source": [
    "def function(x, y, l):\n",
    "    return x * x + l * y * y - x * y - x - y\n",
    "\n",
    "def gradientFunction(x, y, l):\n",
    "    dx = 2 * x - y - 1\n",
    "    dy = 2 * l * y - x - 1\n",
    "    return (dx, dy)"
   ]
  },
  {
   "cell_type": "markdown",
   "metadata": {},
   "source": [
    "#### Class defination of Gradient Descent:\n",
    "  - Precision - $1 \\times 10^{-12}$\n",
    "  - Starting Point - $(0, 0)$\n",
    "  - Maximum Iterations - 100000"
   ]
  },
  {
   "cell_type": "code",
   "execution_count": 260,
   "metadata": {},
   "outputs": [],
   "source": [
    "class GradientDescent2D:\n",
    "    def __init__(self, f, gradF, stepSize, l):\n",
    "        \n",
    "        # Init Functions\n",
    "        self.f = f\n",
    "        self.gradF = gradF\n",
    "        self.stepSize = stepSize\n",
    "        self.stopVal = 0.000000000001\n",
    "        self.l = l\n",
    "        \n",
    "        self.x = 0\n",
    "        self.y = 0\n",
    "    \n",
    "    def moveOneStep(self):\n",
    "        grad = self.gradF(self.x, self.y, self.l)\n",
    "        self.x -= self.stepSize * grad[0]\n",
    "        self.y -= self.stepSize * grad[1]\n",
    "        \n",
    "    def diffGrad(self, a, b):\n",
    "        try:\n",
    "            return ((a[0] - b[0]) ** 2  + (a[1] - b[1]) ** 2) ** (0.5)\n",
    "        except:\n",
    "            return 0\n",
    "        \n",
    "    def descent(self):\n",
    "        # returns the error at each iterations\n",
    "        Error = []\n",
    "        \n",
    "        while True:\n",
    "            \n",
    "            prevF = self.f(self.x, self.y, self.l)\n",
    "            prevGrad = self.gradF(self.x, self.y, self.l)\n",
    "            self.moveOneStep()\n",
    "            currF = self.f(self.x, self.y, self.l)\n",
    "            currGrad = self.gradF(self.x, self.y, self.l)\n",
    "            \n",
    "            Error.append(abs(prevF - currF))\n",
    "            \n",
    "            if abs(prevF - currF) < self.stopVal:\n",
    "                break\n",
    "            \n",
    "            if len(Error) > 1e5:\n",
    "                # Taking Too Long to converge\n",
    "                break\n",
    "        \n",
    "        return Error\n",
    "    \n",
    "    def getPoint(self):\n",
    "        return (self.x, self.y)"
   ]
  },
  {
   "cell_type": "code",
   "execution_count": 261,
   "metadata": {},
   "outputs": [],
   "source": [
    "# Create Instance of class\n",
    "gradientDescent = GradientDescent2D(function, gradientFunction, 0.1, 1)"
   ]
  },
  {
   "cell_type": "code",
   "execution_count": 262,
   "metadata": {},
   "outputs": [
    {
     "name": "stdout",
     "output_type": "stream",
     "text": [
      "(0.9999980931625188, 0.9999980931625188)\n"
     ]
    }
   ],
   "source": [
    "Error = gradientDescent.descent()\n",
    "print(gradientDescent.getPoint())"
   ]
  },
  {
   "cell_type": "markdown",
   "metadata": {},
   "source": [
    "#### Point returned is $\\approx$ (1, 1)"
   ]
  },
  {
   "cell_type": "code",
   "execution_count": 263,
   "metadata": {},
   "outputs": [],
   "source": [
    "iteration = np.linspace(1, len(Error), len(Error))"
   ]
  },
  {
   "cell_type": "code",
   "execution_count": 264,
   "metadata": {},
   "outputs": [
    {
     "data": {
      "image/png": "[encoded data removed]",
      "text/plain": [
       "<Figure size 432x288 with 1 Axes>"
      ]
     },
     "metadata": {
      "needs_background": "light"
     },
     "output_type": "display_data"
    }
   ],
   "source": [
    "plt.plot(iteration, Error, 'g')\n",
    "plt.xlabel('Iteration')\n",
    "plt.ylabel('Error')\n",
    "plt.show()"
   ]
  },
  {
   "cell_type": "markdown",
   "metadata": {},
   "source": [
    "#### Observations\n",
    "  - After $\\approx$ 30 iterations the error remains almost the same\n",
    "  - Error is decreasing, therefore, after each iteration the value is changing less and less"
   ]
  },
  {
   "cell_type": "markdown",
   "metadata": {},
   "source": [
    "## 1.2\n",
    "  - 20 steps sizes are chosen from the range $[0, 2]$\n",
    "  - Values are not chosen randomly to make their plot with iterations meaningful"
   ]
  },
  {
   "cell_type": "code",
   "execution_count": 220,
   "metadata": {},
   "outputs": [],
   "source": [
    "stepSizes = np.linspace(0.1, 1.9, 20)"
   ]
  },
  {
   "cell_type": "code",
   "execution_count": 221,
   "metadata": {},
   "outputs": [],
   "source": [
    "iterationReq = []\n",
    "\n",
    "for step in stepSizes:\n",
    "    gradientDescent = GradientDescent2D(function, gradientFunction, step, 1)\n",
    "    error = gradientDescent.descent()\n",
    "    iterationReq.append(len(error))"
   ]
  },
  {
   "cell_type": "code",
   "execution_count": 222,
   "metadata": {},
   "outputs": [
    {
     "data": {
      "image/png": "[encoded data removed]",
      "text/plain": [
       "<Figure size 432x288 with 1 Axes>"
      ]
     },
     "metadata": {
      "needs_background": "light"
     },
     "output_type": "display_data"
    }
   ],
   "source": [
    "plt.plot(stepSizes, iterationReq, 'r')\n",
    "plt.xlabel('StepSize')\n",
    "plt.ylabel('Iterations')\n",
    "plt.show()"
   ]
  },
  {
   "cell_type": "markdown",
   "metadata": {},
   "source": [
    " - Iterations decreases as StepSize moves away from 0, achieves its minimum value around 1, and then starts to increase again\n",
    " - The plot appears to be convex in nature\n",
    " - Too Large/Too Small Step size gives high amounts to iterations"
   ]
  },
  {
   "cell_type": "markdown",
   "metadata": {},
   "source": [
    "### 1.3\n",
    "  - 5 values are chosen for $\\gamma$ from the range $[0.5, 1]$\n",
    "  - Values are not chosen randomly to make their plot with iterations meaningful"
   ]
  },
  {
   "cell_type": "code",
   "execution_count": 234,
   "metadata": {},
   "outputs": [],
   "source": [
    "gamma = np.linspace(0.5, 1, 5)\n",
    "iterationRequired = []\n",
    "\n",
    "for l in gamma:\n",
    "    gradientDescent = GradientDescent2D(function, gradientFunction, 0.1, l)\n",
    "    error = gradientDescent.descent()\n",
    "    iterationRequired.append(len(error))"
   ]
  },
  {
   "cell_type": "code",
   "execution_count": 235,
   "metadata": {},
   "outputs": [
    {
     "data": {
      "image/png": "[encoded data removed]",
      "text/plain": [
       "<Figure size 432x288 with 1 Axes>"
      ]
     },
     "metadata": {
      "needs_background": "light"
     },
     "output_type": "display_data"
    }
   ],
   "source": [
    "plt.plot(gamma, iterationRequired, 'b')\n",
    "plt.xlabel('Gamma Value')\n",
    "plt.ylabel('Iterations')\n",
    "plt.show()"
   ]
  },
  {
   "cell_type": "markdown",
   "metadata": {},
   "source": [
    "### We cab see that an increase in gamma leads a decrease in iterations required to converge, this can be attributed to that fact that hessian increases as $\\gamma$ increases and therefore the steps size are larger for points away from the minimum."
   ]
  },
  {
   "cell_type": "markdown",
   "metadata": {},
   "source": [
    "# Part 2"
   ]
  },
  {
   "cell_type": "code",
   "execution_count": 203,
   "metadata": {},
   "outputs": [],
   "source": [
    "gradientDescent = GradientDescent2D(function, gradientFunction, 0.1, -1)\n",
    "Error = gradientDescent.descent()\n",
    "iteration = np.linspace(1, len(Error), len(Error))"
   ]
  },
  {
   "cell_type": "code",
   "execution_count": 204,
   "metadata": {},
   "outputs": [
    {
     "data": {
      "image/png": "[encoded data removed]",
      "text/plain": [
       "<Figure size 432x288 with 1 Axes>"
      ]
     },
     "metadata": {
      "needs_background": "light"
     },
     "output_type": "display_data"
    }
   ],
   "source": [
    "plt.plot(iteration, Error, 'g')\n",
    "plt.xlabel('Iteration')\n",
    "plt.ylabel('Error')\n",
    "plt.show()"
   ]
  },
  {
   "cell_type": "markdown",
   "metadata": {},
   "source": [
    "#### Observing that nature of the function at $\\gamma = -1$\n",
    "  - We can see that the descent does not converage and the error increase steeply after some iterations\n",
    "  - The hessian of function when $\\gamma = -1$ is given by:\n",
    "  $$\\begin{bmatrix} 2 & -1 \\\\ -1 & -2 \\end{bmatrix}$$\n",
    "  - The above hessian is indefinite in nature and the functions at $\\gamma = -1$ is not convex in nature"
   ]
  }
 ],
 "metadata": {
  "kernelspec": {
   "display_name": "Python 3",
   "language": "python",
   "name": "python3"
  },
  "language_info": {
   "codemirror_mode": {
    "name": "ipython",
    "version": 3
   },
   "file_extension": ".py",
   "mimetype": "text/x-python",
   "name": "python",
   "nbconvert_exporter": "python",
   "pygments_lexer": "ipython3",
   "version": "3.6.9"
  }
 },
 "nbformat": 4,
 "nbformat_minor": 4
}
