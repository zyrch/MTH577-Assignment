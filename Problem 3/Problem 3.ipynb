{
 "cells": [
  {
   "cell_type": "markdown",
   "metadata": {},
   "source": [
    "#### Problem Statement Modelling:\n",
    "  - Total unit of wealth is $1$ which means $w = (w_1, ..., w_n)$ are the values of investment of each asset\n",
    "  - This also means that sum of all $w_i$ should be 1 (contraint)\n",
    "  - Now fraction returns have mean $m$ and covariance matrix $V$, $m \\in R^{n}$ & $V \\in R^{n \\times n}$\n",
    "  \n",
    "  - $r_m$ is defined as the minimum return of the investment\n",
    "  \n",
    "  - $w^TVw$ is therefore the risk of the investment\n",
    "  \n",
    "  - The goal is the minimize risk with returns $\\geq r_m$\n",
    "  \n",
    "  - Hence the problem can be modeled as the following optimization problem:\n",
    "  \n",
    "    - Minimize     :  $w^TVw$\n",
    "    - Subject to   :\n",
    "      - $m^Tw \\geq r_m$\n",
    "      - $1^Tw = 1$\n",
    "      - $w \\succeq 0$"
   ]
  },
  {
   "cell_type": "code",
   "execution_count": 189,
   "metadata": {},
   "outputs": [],
   "source": [
    "import numpy as np\n",
    "import math\n",
    "import matplotlib.pyplot as plt\n",
    "import scipy.optimize as sp"
   ]
  },
  {
   "cell_type": "markdown",
   "metadata": {},
   "source": [
    "#### For solving the optimization problem the minimize() method of the scipy.optimize library is used"
   ]
  },
  {
   "cell_type": "code",
   "execution_count": 216,
   "metadata": {},
   "outputs": [],
   "source": [
    "class portfolioOptimize:\n",
    "    def __init__(self, m, V, r_m):\n",
    "        self.m = m\n",
    "        self.V = V\n",
    "        self.r_m = 0\n",
    "        \n",
    "        self.eq_cons = {\n",
    "            'type' : 'eq',\n",
    "            'fun'  : lambda x: sum(x) - 1\n",
    "#             'jac'  : lambda x: np.array([1 for i in range(len(x))])\n",
    "        }\n",
    "        \n",
    "        self.ineq_cons = {\n",
    "            'type': 'ineq', \n",
    "            'fun' : lambda x: m.T @ x - r_m\n",
    "#             'jac' : lambda x: np.array(m.T[0].copy())\n",
    "        }\n",
    "        \n",
    "        self.x0 = np.random.rand(20, 1)\n",
    "        self.x0 /= sum(self.x0)\n",
    "    \n",
    "    def risk(self, w):\n",
    "        return w.T @ V @ w\n",
    "    \n",
    "    def jacRisk(self, w):\n",
    "        return 2 * (V @ w)\n",
    "    \n",
    "    def optimize(self, display):\n",
    "        \n",
    "        res = sp.minimize(self.risk,\n",
    "                           self.x0,\n",
    "                           method='SLSQP',\n",
    "                           jac=self.jacRisk, \n",
    "                           constraints=[self.eq_cons, self.ineq_cons],\n",
    "                           options={'ftol': 1e-9, 'disp': display},\n",
    "                           bounds=sp.Bounds(0, 1))\n",
    "        return res.x\n",
    "    "
   ]
  },
  {
   "cell_type": "markdown",
   "metadata": {},
   "source": [
    "#### $m$ and $V$ are randomly generated, it is also ensured that $V$ is positive definate.\n",
    "#### $r_m$ is set to be $0.10$ i.e. $10$%"
   ]
  },
  {
   "cell_type": "code",
   "execution_count": 282,
   "metadata": {},
   "outputs": [],
   "source": [
    "m = 1.75 * np.random.rand(20, 1) - 0.5\n",
    "V = np.random.rand(20, 20)\n",
    "V = np.dot(V, V.transpose())\n",
    "r_m = 0.10"
   ]
  },
  {
   "cell_type": "code",
   "execution_count": 218,
   "metadata": {},
   "outputs": [],
   "source": [
    "pOptimize = portfolioOptimize(m, V, r_m)"
   ]
  },
  {
   "cell_type": "code",
   "execution_count": 246,
   "metadata": {},
   "outputs": [
    {
     "name": "stdout",
     "output_type": "stream",
     "text": [
      "Positive directional derivative for linesearch    (Exit mode 8)\n",
      "            Current function value: 6.2506886402878346\n",
      "            Iterations: 21\n",
      "            Function evaluations: 160\n",
      "            Gradient evaluations: 17\n"
     ]
    }
   ],
   "source": [
    "inves = pOptimize.optimize(True)"
   ]
  },
  {
   "cell_type": "code",
   "execution_count": 247,
   "metadata": {},
   "outputs": [
    {
     "name": "stdout",
     "output_type": "stream",
     "text": [
      "Returns:  [0.24129471]\n"
     ]
    }
   ],
   "source": [
    "# Contraint\n",
    "print(\"Returns: \", inves @ m)"
   ]
  },
  {
   "cell_type": "code",
   "execution_count": 248,
   "metadata": {},
   "outputs": [
    {
     "name": "stdout",
     "output_type": "stream",
     "text": [
      "Totol Investment:  1.00000000005169\n"
     ]
    }
   ],
   "source": [
    "# Contraint\n",
    "print(\"Totol Investment: \", sum(inves))"
   ]
  },
  {
   "cell_type": "code",
   "execution_count": 283,
   "metadata": {},
   "outputs": [],
   "source": [
    "rs = np.linspace(0, 1, 200)\n",
    "risk = []\n",
    "for r in rs:\n",
    "    pOptimize = portfolioOptimize(m, V, r)\n",
    "    w = pOptimize.optimize(False)                # Do no Display Ouput, it's cumbersome\n",
    "    risk.append(pOptimize.risk(w))"
   ]
  },
  {
   "cell_type": "code",
   "execution_count": 284,
   "metadata": {},
   "outputs": [
    {
     "data": {
      "image/png": "[encoded data removed]",
      "text/plain": [
       "<Figure size 432x288 with 1 Axes>"
      ]
     },
     "metadata": {
      "needs_background": "light"
     },
     "output_type": "display_data"
    }
   ],
   "source": [
    "plt.plot(rs, risk, 'g')\n",
    "plt.xlabel('Min Return')\n",
    "plt.ylabel('Risk')\n",
    "plt.show()"
   ]
  },
  {
   "cell_type": "markdown",
   "metadata": {},
   "source": [
    "#### We can observe that the risk increases as the min target return increases"
   ]
  },
  {
   "cell_type": "markdown",
   "metadata": {},
   "source": [
    "## Bonus"
   ]
  },
  {
   "cell_type": "markdown",
   "metadata": {},
   "source": [
    "### The distributions used to generate $m$ does have an affect on the final results\n",
    "  - Say if m has a large value, this means all the stocks will be able to returns more profit. If some value of $r_m$ was previously infeasible could become feasible. \n",
    "  - Note that risk depends one $V$ but the possible values that $w$ could take are contrainted by $m$. And hence change $m$ would indirecly affect the results"
   ]
  },
  {
   "cell_type": "code",
   "execution_count": 285,
   "metadata": {},
   "outputs": [],
   "source": [
    "m = 2 * np.random.rand(20, 1)       # High Retuns for the same V"
   ]
  },
  {
   "cell_type": "code",
   "execution_count": 289,
   "metadata": {},
   "outputs": [],
   "source": [
    "rs = np.linspace(0, 2, 200)\n",
    "risk = []\n",
    "for r in rs:\n",
    "    pOptimize = portfolioOptimize(m, V, r)\n",
    "    w = pOptimize.optimize(False)                # Do no Display Ouput, it's cumbersome\n",
    "    risk.append(pOptimize.risk(w))"
   ]
  },
  {
   "cell_type": "code",
   "execution_count": 290,
   "metadata": {},
   "outputs": [
    {
     "data": {
      "image/png": "[encoded data removed]",
      "text/plain": [
       "<Figure size 432x288 with 1 Axes>"
      ]
     },
     "metadata": {
      "needs_background": "light"
     },
     "output_type": "display_data"
    }
   ],
   "source": [
    "plt.plot(rs, risk, 'g')\n",
    "plt.xlabel('Min Return')\n",
    "plt.ylabel('Risk')\n",
    "plt.show()"
   ]
  },
  {
   "cell_type": "markdown",
   "metadata": {},
   "source": [
    "#### We can observe that the results obtained for m from different distributions are different from the previous results"
   ]
  }
 ],
 "metadata": {
  "kernelspec": {
   "display_name": "Python 3",
   "language": "python",
   "name": "python3"
  },
  "language_info": {
   "codemirror_mode": {
    "name": "ipython",
    "version": 3
   },
   "file_extension": ".py",
   "mimetype": "text/x-python",
   "name": "python",
   "nbconvert_exporter": "python",
   "pygments_lexer": "ipython3",
   "version": "3.6.9"
  }
 },
 "nbformat": 4,
 "nbformat_minor": 4
}
