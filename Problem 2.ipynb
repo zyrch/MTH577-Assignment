{
 "cells": [
  {
   "cell_type": "code",
   "execution_count": 1,
   "metadata": {},
   "outputs": [],
   "source": [
    "import numpy as np\n",
    "import matplotlib.pyplot as plt\n",
    "import math"
   ]
  },
  {
   "cell_type": "code",
   "execution_count": 7,
   "metadata": {},
   "outputs": [],
   "source": [
    "def function(x, y):\n",
    "    return math.exp(x + 3 * y - 0.1) + math.exp(x - 3 * y - 0.1) + math.exp(-x - 0.1)\n",
    "\n",
    "def gradientFunction(x, y):\n",
    "    dx = math.exp(x + 3 * y - 0.1) + math.exp(x - 3 * y - 0.1) - math.exp(-x - 0.1)\n",
    "    dy = 3 * math.exp(x + 3 * y - 0.1) - 3 * math.exp(x - 3 * y - 0.1)\n",
    "    return np.array([dx, dy])\n",
    "\n",
    "def HessianFunction(x, y):\n",
    "    dxx = math.exp(x + 3 * y - 0.1) + math.exp(x - 3 * y - 0.1) + math.exp(-x - 0.1)\n",
    "    dxy = 3 * math.exp(x + 3 * y - 0.1) - 3 * math.exp(x - 3 * y - 0.1)\n",
    "    dyx = 3 * math.exp(x + 3 * y - 0.1) - 3 * math.exp(x - 3 * y - 0.1)\n",
    "    dyy = 9 * math.exp(x + 3 * y - 0.1) + 9 * math.exp(x - 3 * y - 0.1)\n",
    "    return np.array([[dxx, dxy], [dyx, dyy]])"
   ]
  },
  {
   "cell_type": "code",
   "execution_count": 25,
   "metadata": {},
   "outputs": [],
   "source": [
    "class GradientDescent2DNewton:\n",
    "    def __init__(self, f, gradF, HessianF, stepSize, initialPoint):\n",
    "        \n",
    "        # Init Functions\n",
    "        self.f = f\n",
    "        self.gradF = gradF\n",
    "        self.hessianF = HessianF\n",
    "        \n",
    "        self.stepSize = stepSize\n",
    "        self.stopVal = 0.000000001\n",
    "        \n",
    "        self.point = initialPoint\n",
    "    \n",
    "    def moveOneStep(self):\n",
    "        grad = self.gradF(self.point[0], self.point[1])\n",
    "        hessian = self.hessianF(self.point[0], self.point[1])\n",
    "        hessianInv = np.linalg.inv(hessian)\n",
    "        \n",
    "        Dk = hessianInv @ grad.T\n",
    "        \n",
    "        self.point -= self.stepSize * Dk\n",
    "        \n",
    "    def diffGrad(self, a, b):\n",
    "        try:\n",
    "            return ((a[0] - b[0]) ** 2  + (a[1] - b[1]) ** 2) ** (0.5)\n",
    "        except:\n",
    "            return 0\n",
    "        \n",
    "    def descent(self):\n",
    "        \n",
    "        Error = []\n",
    "        \n",
    "        while True:\n",
    "            \n",
    "            prevF = self.f(self.point[0], self.point[1])\n",
    "            prevGrad = self.gradF(self.point[0], self.point[1])\n",
    "            self.moveOneStep()\n",
    "            currF = self.f(self.point[0], self.point[1])\n",
    "            currGrad = self.gradF(self.point[0], self.point[1])\n",
    "            \n",
    "            Error.append(abs(prevF - currF))\n",
    "            \n",
    "            if self.diffGrad(prevGrad, currGrad) < self.stopVal:\n",
    "                break\n",
    "            \n",
    "            if len(Error) > 1e5:\n",
    "                # Taking Too Long to converge\n",
    "                break\n",
    "        \n",
    "        return Error\n",
    "    \n",
    "    def getPoint(self):\n",
    "        return self.point"
   ]
  },
  {
   "cell_type": "code",
   "execution_count": 26,
   "metadata": {},
   "outputs": [],
   "source": [
    "gradientDescent = GradientDescent2DNewton(function, gradientFunction, HessianFunction, 0.1, np.array([2.0, 1.0]))"
   ]
  },
  {
   "cell_type": "code",
   "execution_count": 66,
   "metadata": {},
   "outputs": [
    {
     "name": "stdout",
     "output_type": "stream",
     "text": [
      "[-3.46573590e-01  1.19724596e-11] 2.5592666966582156\n"
     ]
    }
   ],
   "source": [
    "gradientDescent.descent()\n",
    "minP = gradientDescent.getPoint()\n",
    "print(minP, function(minP[0], minP[1]))"
   ]
  },
  {
   "cell_type": "code",
   "execution_count": 67,
   "metadata": {},
   "outputs": [],
   "source": [
    "gradientDescent = GradientDescent2DNewton(function, gradientFunction, HessianFunction, 0.1, np.array([-2.0, 1.0]))"
   ]
  },
  {
   "cell_type": "code",
   "execution_count": 68,
   "metadata": {},
   "outputs": [
    {
     "name": "stdout",
     "output_type": "stream",
     "text": [
      "[-3.46573592e-01  6.11073818e-10] 2.5592666966582156\n"
     ]
    }
   ],
   "source": [
    "gradientDescent.descent()\n",
    "minP = gradientDescent.getPoint()\n",
    "print(minP, function(minP[0], minP[1]))"
   ]
  }
 ],
 "metadata": {
  "kernelspec": {
   "display_name": "Python 3",
   "language": "python",
   "name": "python3"
  },
  "language_info": {
   "codemirror_mode": {
    "name": "ipython",
    "version": 3
   },
   "file_extension": ".py",
   "mimetype": "text/x-python",
   "name": "python",
   "nbconvert_exporter": "python",
   "pygments_lexer": "ipython3",
   "version": "3.6.9"
  }
 },
 "nbformat": 4,
 "nbformat_minor": 4
}
