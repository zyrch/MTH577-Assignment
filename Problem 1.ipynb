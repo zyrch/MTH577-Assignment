{
 "cells": [
  {
   "cell_type": "code",
   "execution_count": 68,
   "metadata": {},
   "outputs": [],
   "source": [
    "import numpy as np\n",
    "import matplotlib.pyplot as plt\n",
    "import math"
   ]
  },
  {
   "cell_type": "code",
   "execution_count": 157,
   "metadata": {},
   "outputs": [],
   "source": [
    "def function(x, y, l):\n",
    "    return x * x + l * y * y - x * y - x - y\n",
    "\n",
    "def gradientFunction(x, y, l):\n",
    "    dx = 2 * x - y - 1\n",
    "    dy = 2 * l * y - x - 1\n",
    "    return (dx, dy)"
   ]
  },
  {
   "cell_type": "code",
   "execution_count": 174,
   "metadata": {},
   "outputs": [],
   "source": [
    "class GradientDescent2D:\n",
    "    def __init__(self, f, gradF, stepSize, l):\n",
    "        \n",
    "        # Init Functions\n",
    "        self.f = f\n",
    "        self.gradF = gradF\n",
    "        self.stepSize = stepSize\n",
    "        self.stopVal = 0.000001\n",
    "        self.l = l\n",
    "        \n",
    "        self.x = 0\n",
    "        self.y = 0\n",
    "    \n",
    "    def moveOneStep(self):\n",
    "        grad = self.gradF(self.x, self.y, self.l)\n",
    "        self.x -= self.stepSize * grad[0]\n",
    "        self.y -= self.stepSize * grad[1]\n",
    "        \n",
    "    def diffGrad(self, a, b):\n",
    "        try:\n",
    "            return ((a[0] - b[0]) ** 2  + (a[1] - b[1]) ** 2) ** (0.5)\n",
    "        except:\n",
    "            return 0\n",
    "        \n",
    "    def descent(self):\n",
    "        \n",
    "        Error = []\n",
    "        \n",
    "        while True:\n",
    "            \n",
    "            prevF = self.f(self.x, self.y, self.l)\n",
    "            prevGrad = self.gradF(self.x, self.y, self.l)\n",
    "            self.moveOneStep()\n",
    "            currF = self.f(self.x, self.y, self.l)\n",
    "            currGrad = self.gradF(self.x, self.y, self.l)\n",
    "            \n",
    "            Error.append(abs(prevF - currF))\n",
    "            \n",
    "            if self.diffGrad(prevGrad, currGrad) < self.stopVal:\n",
    "                break\n",
    "            \n",
    "            if len(Error) > 1e5:\n",
    "                # Taking Too Long to converge\n",
    "                break\n",
    "        \n",
    "        return Error\n",
    "    \n",
    "    def getPoint(self):\n",
    "        return (self.x, self.y)"
   ]
  },
  {
   "cell_type": "code",
   "execution_count": 159,
   "metadata": {},
   "outputs": [
    {
     "name": "stdout",
     "output_type": "stream",
     "text": [
      "(0, 0)\n"
     ]
    }
   ],
   "source": [
    "gradientDescent = GradientDescent2D(function, gradientFunction, 0.1, 1)\n",
    "print(gradientDescent.getPoint())"
   ]
  },
  {
   "cell_type": "code",
   "execution_count": 160,
   "metadata": {},
   "outputs": [
    {
     "name": "stdout",
     "output_type": "stream",
     "text": [
      "(0.9999939236039033, 0.9999939236039033)\n"
     ]
    }
   ],
   "source": [
    "Error = gradientDescent.descent()\n",
    "print(gradientDescent.getPoint())"
   ]
  },
  {
   "cell_type": "code",
   "execution_count": 161,
   "metadata": {},
   "outputs": [],
   "source": [
    "iteration = np.linspace(1, len(Error), len(Error))"
   ]
  },
  {
   "cell_type": "code",
   "execution_count": 162,
   "metadata": {},
   "outputs": [
    {
     "data": {
      "image/png": "[encoded data removed]",
      "text/plain": [
       "<Figure size 432x288 with 1 Axes>"
      ]
     },
     "metadata": {
      "needs_background": "light"
     },
     "output_type": "display_data"
    }
   ],
   "source": [
    "plt.plot(iteration, Error, 'g')\n",
    "plt.xlabel('Iteration')\n",
    "plt.ylabel('Error')\n",
    "plt.show()"
   ]
  },
  {
   "cell_type": "code",
   "execution_count": 154,
   "metadata": {},
   "outputs": [],
   "source": [
    "stepSizes = [np.random.uniform(0.1, 2) for i in range(20)]\n",
    "stepSizes.sort()"
   ]
  },
  {
   "cell_type": "code",
   "execution_count": 163,
   "metadata": {},
   "outputs": [],
   "source": [
    "iterationReq = []\n",
    "\n",
    "for step in stepSizes:\n",
    "    gradientDescent = GradientDescent2D(function, gradientFunction, step, 1)\n",
    "    error = gradientDescent.descent()\n",
    "    iterationReq.append(len(error))"
   ]
  },
  {
   "cell_type": "code",
   "execution_count": 164,
   "metadata": {},
   "outputs": [
    {
     "data": {
      "image/png": "[encoded data removed]",
      "text/plain": [
       "<Figure size 432x288 with 1 Axes>"
      ]
     },
     "metadata": {
      "needs_background": "light"
     },
     "output_type": "display_data"
    }
   ],
   "source": [
    "plt.plot(stepSizes, iterationReq, 'r')\n",
    "plt.xlabel('StepSize')\n",
    "plt.ylabel('Iterations')\n",
    "plt.show()"
   ]
  },
  {
   "cell_type": "code",
   "execution_count": 175,
   "metadata": {},
   "outputs": [],
   "source": [
    "gamma = np.linspace(0.5, 1, 5)\n",
    "iterationRequired = []\n",
    "\n",
    "for l in gamma:\n",
    "    gradientDescent = GradientDescent2D(function, gradientFunction, 0.1, l)\n",
    "    error = gradientDescent.descent()\n",
    "    iterationRequired.append(len(error))"
   ]
  },
  {
   "cell_type": "code",
   "execution_count": 177,
   "metadata": {},
   "outputs": [
    {
     "data": {
      "image/png": "[encoded data removed]",
      "text/plain": [
       "<Figure size 432x288 with 1 Axes>"
      ]
     },
     "metadata": {
      "needs_background": "light"
     },
     "output_type": "display_data"
    }
   ],
   "source": [
    "plt.plot(gamma, iterationRequired, 'b')\n",
    "plt.xlabel('Gamma Value')\n",
    "plt.ylabel('Iterations')\n",
    "plt.show()"
   ]
  },
  {
   "cell_type": "markdown",
   "metadata": {},
   "source": [
    "# Part 2"
   ]
  },
  {
   "cell_type": "code",
   "execution_count": 180,
   "metadata": {},
   "outputs": [],
   "source": [
    "gradientDescent = GradientDescent2D(function, gradientFunction, 0.1, -1)\n",
    "Error = gradientDescent.descent()\n",
    "iteration = np.linspace(1, len(Error), len(Error))"
   ]
  },
  {
   "cell_type": "code",
   "execution_count": 181,
   "metadata": {},
   "outputs": [
    {
     "data": {
      "image/png": "[encoded data removed]",
      "text/plain": [
       "<Figure size 432x288 with 1 Axes>"
      ]
     },
     "metadata": {
      "needs_background": "light"
     },
     "output_type": "display_data"
    }
   ],
   "source": [
    "plt.plot(iteration, Error, 'g')\n",
    "plt.xlabel('Iteration')\n",
    "plt.ylabel('Error')\n",
    "plt.show()"
   ]
  },
  {
   "cell_type": "markdown",
   "metadata": {},
   "source": [
    "#### Observe that nature of the function at $\\gamma = -1$"
   ]
  },
  {
   "cell_type": "code",
   "execution_count": 182,
   "metadata": {},
   "outputs": [],
   "source": [
    "# Check if semi-definate for each gamma, create a check semi definate function"
   ]
  },
  {
   "cell_type": "code",
   "execution_count": null,
   "metadata": {},
   "outputs": [],
   "source": []
  }
 ],
 "metadata": {
  "kernelspec": {
   "display_name": "Python 3",
   "language": "python",
   "name": "python3"
  },
  "language_info": {
   "codemirror_mode": {
    "name": "ipython",
    "version": 3
   },
   "file_extension": ".py",
   "mimetype": "text/x-python",
   "name": "python",
   "nbconvert_exporter": "python",
   "pygments_lexer": "ipython3",
   "version": "3.6.9"
  }
 },
 "nbformat": 4,
 "nbformat_minor": 4
}
